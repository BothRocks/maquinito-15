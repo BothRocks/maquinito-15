{
  "nbformat": 4,
  "nbformat_minor": 0,
  "metadata": {
    "colab": {
      "private_outputs": true,
      "provenance": []
    },
    "kernelspec": {
      "name": "python3",
      "display_name": "Python 3"
    },
    "language_info": {
      "name": "python"
    }
  },
  "cells": [
    {
      "cell_type": "code",
      "source": [
        "!pip install numpy==1.24.4 --force"
      ],
      "metadata": {
        "id": "vBkA4W_soAFI"
      },
      "execution_count": null,
      "outputs": []
    },
    {
      "cell_type": "code",
      "source": [
        "from IPython.display import clear_output\n",
        "\n",
        "!pip install cohere\n",
        "!pip install umap-learn\n",
        "\n",
        "clear_output()"
      ],
      "metadata": {
        "id": "umAnS4vug6uU"
      },
      "execution_count": null,
      "outputs": []
    },
    {
      "cell_type": "code",
      "source": [
        "import cohere\n",
        "import numpy as np\n",
        "import requests\n",
        "import umap\n",
        "\n",
        "from google.colab import userdata\n",
        "from pickle import loads\n",
        "\n",
        "co = cohere.Client(userdata.get('COHERE_API_KEY'))\n",
        "response = requests.get('https://both.rocks/maquinito-15/upniverso_umap.pkl')\n",
        "\n",
        "if response.status_code != 200:\n",
        "  print(\"ERROR: no existe el fichero upniverso_umap.pkl\")\n",
        "  print(response)\n",
        "\n",
        "reducer = loads(response.content)\n"
      ],
      "metadata": {
        "id": "XreM8e5HgZiT"
      },
      "execution_count": null,
      "outputs": []
    },
    {
      "cell_type": "code",
      "source": [
        "verso = \"El patio de mi casa\""
      ],
      "metadata": {
        "id": "hTqo3Nv5hjAO"
      },
      "execution_count": null,
      "outputs": []
    },
    {
      "cell_type": "code",
      "execution_count": null,
      "metadata": {
        "id": "bwU3EIv4fSso"
      },
      "outputs": [],
      "source": [
        "response = co.embed(texts=[verso], model=\"embed-multilingual-v2.0\")\n",
        "embeddings_768 = response.embeddings[0]\n",
        "embeddings_3 = reducer.transform([embeddings_768])[0]"
      ]
    },
    {
      "cell_type": "code",
      "source": [
        "print(embeddings_768)\n",
        "print(embeddings_3)"
      ],
      "metadata": {
        "id": "l9iraVXshcGT"
      },
      "execution_count": null,
      "outputs": []
    }
  ]
}
